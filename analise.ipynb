{
 "cells": [
  {
   "cell_type": "code",
   "execution_count": null,
   "metadata": {},
   "outputs": [],
   "source": [
    "''' O projeto se divide em análise de timesires e uma tentativa de prever evazão\n",
    "fazendo uso de um algoritmo supervisionado\n",
    "----Passos Time series\n",
    "1 - Baixar o Log no moodle de eventos no moodle para atividades de participação -\n",
    "OK\n",
    "2 - Filtrar os usuário que não são alunos - Excel -pré processamento\n",
    "OK\n",
    "3 - Fazer discretização(IP) - Coluna Rede_Puc\n",
    "OK\n",
    "4 - Adicionar uma coluna referente ao cronograma(unidade 1 e etc)\n",
    "Preparando... To do -> Verificar no cronograma \n",
    "5 - Adicionar coluna com as turmas\n",
    "OK\n",
    "6-  Plotar gráficos com a visualização\n",
    "------\n",
    "------ Passos Forecasting\n",
    "1 - Converter a tabela de time series em um data set anterior em um transicional\n",
    "    1.1 - Plotar gráfico com estatśticas gerais de uso\n",
    "    1.2 - Talvez clusterizar os alunos\n",
    "2 - Descobrir quais usuários trancaram a disciplina - Log de atividades CLI\n",
    "3 - Descobrir se existe uma data com pico de trancamento\n",
    "4 - Baseado na relação entre data e trancamento definir um intervalo e filtrar o dataset antes desse pico.\n",
    "Fazendo isso imagino que posso descobrir algum padrão nos usuários que trancam. Esse será meu target Y\n",
    "5 - Rodar um random forest\n",
    "6 - avaliar desempenho\n",
    "'''\n",
    "# Import packages\n",
    "import numpy as np\n",
    "import pandas as pd\n",
    "import matplotlib.pyplot as plt\n",
    "import seaborn as sns\n",
    "import glob\n",
    "from datetime import datetime        \n",
    "%matplotlib inline\n",
    "sns.set()"
   ]
  },
  {
   "cell_type": "code",
   "execution_count": null,
   "metadata": {},
   "outputs": [],
   "source": [
    "def rede_Puc(turmas):\n",
    "    ip = '139.82'\n",
    "    rede = []\n",
    "    for x in turmas.IP:\n",
    "        if(ip == x[0:6]):\n",
    "            rede.append('S')\n",
    "        else:\n",
    "            rede.append('N')\n",
    "    turmas.insert(1, column='Rede_Puc', value=rede)#Passo 5\n",
    "    return turmas"
   ]
  },
  {
   "cell_type": "code",
   "execution_count": null,
   "metadata": {},
   "outputs": [],
   "source": [
    "def obter_turmas():\n",
    "    df_ = pd.DataFrame()\n",
    "    frames = [df_]\n",
    "    \n",
    "    for dados_turma in glob.glob('dados/turmas/*'):\n",
    "        grupo = dados_turma[13:-4]# obtem código do grupo\n",
    "        df = pd.read_csv(dados_turma)#lê arquivo\n",
    "        df.insert(3, column='Turma', value=grupo)#insere coluna\n",
    "        print(df.shape)\n",
    "        frames.append(df)\n",
    "    dados = pd.concat(frames)\n",
    "    dados.columns = [c.replace(' ', '_') for c in dados.columns]#Troca espaço por underline no cabeçalho\n",
    "    #dados.drop_duplicates(keep=False, inplace=True)#limpando dados duplicados\n",
    "    dados['Data'], dados['Hora'] = dados['Hora'].str.split(' ', 1).str#divide a coluna Hora em duas colunas\n",
    "    dados.Data = pd.to_datetime(dados.Data,dayfirst=True)\n",
    "    \n",
    "    return dados\n",
    "\n"
   ]
  },
  {
   "cell_type": "code",
   "execution_count": null,
   "metadata": {},
   "outputs": [],
   "source": [
    "def obter_unidades(t): \n",
    "    unidades= []\n",
    "    data_unidades = {\n",
    "        'IU1':datetime(2018, 3, 19),\n",
    "        'FU1':datetime(2018, 4, 18),\n",
    "        'IU2':datetime(2018, 4, 18),\n",
    "        'FU2':datetime(2018, 5, 9),\n",
    "        'IU3':datetime(2018, 5, 9),\n",
    "        'FU3':datetime(2018, 5, 23),\n",
    "        'IU4':datetime(2018, 5, 23),\n",
    "        'FU4':datetime(2018, 6, 27)\n",
    "    }\n",
    "\n",
    "    for x in t.Data:\n",
    "        if(data_unidades['IU1'] <= x < data_unidades['FU1']):\n",
    "            unidades.append('unidade_1')\n",
    "        elif(data_unidades['IU2'] <= x < data_unidades['FU2']):\n",
    "            unidades.append('unidade_2')\n",
    "        elif(data_unidades['IU3'] <= x < data_unidades['FU3']):\n",
    "            unidades.append('unidade_3')\n",
    "        elif(data_unidades['IU4'] <= x < data_unidades['FU4']):\n",
    "            unidades.append('unidade_4')\n",
    "        else:\n",
    "            unidades.append('fora_de_epoca')\n",
    "            \n",
    "        \n",
    "    t.insert(1, column='Unidade', value=unidades)\n",
    "    return t\n",
    "\n",
    "   "
   ]
  },
  {
   "cell_type": "code",
   "execution_count": null,
   "metadata": {},
   "outputs": [],
   "source": [
    "turmas = obter_turmas() \n",
    "turmas = rede_Puc(turmas)\n",
    "turmas = obter_unidades(turmas)\n",
    "turmas"
   ]
  },
  {
   "cell_type": "code",
   "execution_count": null,
   "metadata": {},
   "outputs": [],
   "source": [
    "turmas.to_csv('turmas.csv')"
   ]
  },
  {
   "cell_type": "code",
   "execution_count": null,
   "metadata": {},
   "outputs": [],
   "source": [
    "turmas2=turmas.groupby('Unidade')['Contexto_do_Evento'].value_counts().unstack().fillna(0)#tranformando timesires em data frame\n",
    "turmas2.to_csv('unidades.csv')"
   ]
  },
  {
   "cell_type": "code",
   "execution_count": null,
   "metadata": {},
   "outputs": [],
   "source": []
  },
  {
   "cell_type": "code",
   "execution_count": null,
   "metadata": {},
   "outputs": [],
   "source": []
  }
 ],
 "metadata": {
  "kernelspec": {
   "display_name": "Python 3",
   "language": "python",
   "name": "python3"
  },
  "language_info": {
   "codemirror_mode": {
    "name": "ipython",
    "version": 3
   },
   "file_extension": ".py",
   "mimetype": "text/x-python",
   "name": "python",
   "nbconvert_exporter": "python",
   "pygments_lexer": "ipython3",
   "version": "3.6.5"
  }
 },
 "nbformat": 4,
 "nbformat_minor": 2
}
