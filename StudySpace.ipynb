{
 "cells": [
  {
   "cell_type": "code",
   "execution_count": null,
   "metadata": {},
   "outputs": [],
   "source": [
    "''' O projeto se divide em análise de timesires e uma tentativa de prever evazão\n",
    "fazendo uso de um algoritmo supervisionado\n",
    "----Passos Time series\n",
    "1 - Baixar o Log no moodle de eventos no moodle para atividades de participação -\n",
    "OK\n",
    "2 - Filtrar os usuário que não são alunos\n",
    "OK\n",
    "3 - Fazer discretização no excel(IP) - Coluna Rede_Puc\n",
    "OK\n",
    "4 - Adicionar uma coluna referente ao cronograma(unidade 1 e etc)\n",
    "Preparando...\n",
    "5 - Adicionar coluna com as turmas\n",
    "Será adicionado em tempo de execução\n",
    "6-  Plotar gráficos com a visualizaçãaao\n",
    "------\n",
    "------ Passos Forecasting\n",
    "1 - Converter a tabela de time series em um data set anterior em um transicional\n",
    "    1.1 - Plotar gráfico com estatśticas gerais de uso\n",
    "    1.2 - Talvez clusterizar os alunos\n",
    "2 - Descobrir quais usuários trancaram a disciplina - Log de atividades CLI\n",
    "3 - Descobrir se existe uma data com pico de trancamento\n",
    "4 - Baseado na relação entre data e trancamento definir um intervalo e filtrar o dataset antes desse pico.\n",
    "Fazendo isso imagino que posso descobrir algum padrão nos usuários que trancam. Esse será meu target Y\n",
    "5 - Rodar um random forest\n",
    "6 - avaliar desempenho\n",
    "'''\n",
    "# Import packages\n",
    "import numpy as np\n",
    "import pandas as pd\n",
    "import matplotlib.pyplot as plt\n",
    "import seaborn as sns\n",
    "import glob\n",
    "%matplotlib inline\n",
    "sns.set()"
   ]
  },
  {
   "cell_type": "code",
   "execution_count": null,
   "metadata": {},
   "outputs": [],
   "source": [
    "df = pd.read_csv('6TAA.csv')#fazer discretização do IP no excel #adicionar uma coluna de unidade - baseado no cronograma no excel\n",
    "df.columns = [c.replace(' ', '_') for c in df.columns]#Troca espaço por undeline no cabeçalho"
   ]
  },
  {
   "cell_type": "code",
   "execution_count": null,
   "metadata": {},
   "outputs": [],
   "source": [
    "df['Data'], df['Hora'] = df['Hora'].str.split(' ', 1).str#divide a coluna Hora em duas colunas\n"
   ]
  },
  {
   "cell_type": "code",
   "execution_count": null,
   "metadata": {},
   "outputs": [],
   "source": [
    "df.insert(3, column='Turma', value='6TA')#Passo 5\n",
    "df"
   ]
  },
  {
   "cell_type": "code",
   "execution_count": null,
   "metadata": {},
   "outputs": [],
   "source": [
    "df.Data = pd.to_datetime(df.Data)\n",
    "df.Hora"
   ]
  },
  {
   "cell_type": "code",
   "execution_count": null,
   "metadata": {},
   "outputs": [],
   "source": []
  },
  {
   "cell_type": "code",
   "execution_count": null,
   "metadata": {},
   "outputs": [],
   "source": [
    "plt.scatter(df['Hora',coats,label='dados')\n",
    "plt.grid(True)\n",
    "plt.ylabel('Casacos vendidos')\n",
    "plt.xlabel('temperatura')\n",
    "plt.title('Temperatura X Casacos vendidos')\n",
    "plt.plot(temp, w*temp + b, c='red', label='regressão' )\n",
    "plt.plot(temp, w_init*temp + b_init, c='orange', label='inicial')\n",
    "plt.legend()\n",
    "plt.show()"
   ]
  },
  {
   "cell_type": "code",
   "execution_count": null,
   "metadata": {},
   "outputs": [],
   "source": [
    "from pandas import Series\n",
    "df.head()\n",
    "df.to_csv('6TAclean.csv')\n",
    "series = Series.from_csv('6TAclean.csv', header=0)"
   ]
  },
  {
   "cell_type": "code",
   "execution_count": null,
   "metadata": {},
   "outputs": [],
   "source": [
    "series.plot();\n"
   ]
  },
  {
   "cell_type": "code",
   "execution_count": null,
   "metadata": {},
   "outputs": [],
   "source": [
    "df2=df.groupby('Nome completo')['Contexto do Evento'].value_counts().unstack().fillna(0)#tranformando timesires em data frame"
   ]
  },
  {
   "cell_type": "code",
   "execution_count": null,
   "metadata": {},
   "outputs": [],
   "source": [
    "df.to_csv('timeseries.csv')\n",
    "df2.to_csv('dataframe.csv')"
   ]
  },
  {
   "cell_type": "code",
   "execution_count": null,
   "metadata": {},
   "outputs": [],
   "source": [
    "df2"
   ]
  },
  {
   "cell_type": "code",
   "execution_count": null,
   "metadata": {},
   "outputs": [],
   "source": [
    "df2.values"
   ]
  },
  {
   "cell_type": "code",
   "execution_count": null,
   "metadata": {},
   "outputs": [],
   "source": [
    "import numpy as np\n",
    "from sklearn.manifold import TSNE\n",
    "X = df\n",
    "X_embedded = TSNE(n_components=2).fit_transform(X)\n",
    "X_embedded.shape"
   ]
  },
  {
   "cell_type": "code",
   "execution_count": null,
   "metadata": {},
   "outputs": [],
   "source": [
    "#obter usuários EAD\n",
    "\n",
    "def alunos_EAD():\n",
    "    alunos_EAD = ['BERNARDO LEMOS DE CASTILHO DE HOND','LAURA MOREIRA DE BRITO']\n",
    "    alunos = pd.read_csv('6TAA.csv')\n",
    "    \n",
    "    for x in alunos.Nome_completo:\n",
    "        if x in alunos_EAD:\n",
    "            alunos = alunos[alunos.Nome_completo == x]\n",
    "        \n",
    "    return alunos\n",
    "    \n",
    "a = alunos_EAD()\n",
    "a"
   ]
  },
  {
   "cell_type": "code",
   "execution_count": null,
   "metadata": {},
   "outputs": [],
   "source": []
  }
 ],
 "metadata": {
  "kernelspec": {
   "display_name": "Python 3",
   "language": "python",
   "name": "python3"
  },
  "language_info": {
   "codemirror_mode": {
    "name": "ipython",
    "version": 3
   },
   "file_extension": ".py",
   "mimetype": "text/x-python",
   "name": "python",
   "nbconvert_exporter": "python",
   "pygments_lexer": "ipython3",
   "version": "3.6.5"
  }
 },
 "nbformat": 4,
 "nbformat_minor": 2
}
